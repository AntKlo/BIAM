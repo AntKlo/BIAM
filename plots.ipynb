{
 "cells": [
  {
   "attachments": {},
   "cell_type": "markdown",
   "metadata": {},
   "source": [
    "# Notebook for generating plots"
   ]
  },
  {
   "cell_type": "code",
   "execution_count": 2,
   "metadata": {},
   "outputs": [],
   "source": [
    "import matplotlib.pyplot as plt"
   ]
  },
  {
   "cell_type": "code",
   "execution_count": 26,
   "metadata": {},
   "outputs": [],
   "source": [
    "# function to read the data from the file\n",
    "def read_data(filename):\n",
    "    # if odd line number, then it is a solution\n",
    "    # if even line number, then it is a cost\n",
    "    # skip the last line\n",
    "    # on new line, append to the list\n",
    "    \n",
    "    with open(filename, 'r') as f:\n",
    "        lines = f.readlines()\n",
    "        lines = lines[:-1]\n",
    "        solutions = []\n",
    "        costs = []\n",
    "        for i in range(len(lines)):\n",
    "            if i % 2 == 0:\n",
    "                #solutions.append(lines[i][:-1])\n",
    "                solutions.append(list(map(int,lines[i][:-2].split(' '))))\n",
    "            else:\n",
    "                costs.append(float(lines[i][:-1]))\n",
    "    return solutions, costs\n"
   ]
  },
  {
   "cell_type": "code",
   "execution_count": 30,
   "metadata": {},
   "outputs": [],
   "source": [
    "nn_solutions, nn_costs = read_data('nn_solutions.txt')\n",
    "greedy_solutions, greedy_costs = read_data('greedy_solutions.txt')\n",
    "steepest_solutions, steepest_costs = read_data('steepest_solutions.txt')"
   ]
  },
  {
   "cell_type": "code",
   "execution_count": 33,
   "metadata": {},
   "outputs": [
    {
     "data": {
      "image/png": "[encoded data removed]",
      "text/plain": [
       "<Figure size 432x288 with 1 Axes>"
      ]
     },
     "metadata": {
      "needs_background": "light"
     },
     "output_type": "display_data"
    }
   ],
   "source": [
    "# scatter plot of the costs on y axis, type of algorithm on x axis\n",
    "plt.scatter([1]*len(nn_costs), nn_costs, label='Nearest Neighbour')\n",
    "\n",
    "plt.scatter([2]*len(greedy_costs), greedy_costs, label='Greedy')\n",
    "\n",
    "plt.scatter([3]*len(steepest_costs), steepest_costs, label='Steepest')\n",
    "\n",
    "plt.legend()\n",
    "plt.show()"
   ]
  }
 ],
 "metadata": {
  "kernelspec": {
   "display_name": "base",
   "language": "python",
   "name": "python3"
  },
  "language_info": {
   "codemirror_mode": {
    "name": "ipython",
    "version": 3
   },
   "file_extension": ".py",
   "mimetype": "text/x-python",
   "name": "python",
   "nbconvert_exporter": "python",
   "pygments_lexer": "ipython3",
   "version": "3.9.12"
  },
  "orig_nbformat": 4
 },
 "nbformat": 4,
 "nbformat_minor": 2
}
