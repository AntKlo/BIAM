{
 "cells": [
  {
   "attachments": {},
   "cell_type": "markdown",
   "metadata": {},
   "source": [
    "# Notebook for generating plots"
   ]
  },
  {
   "cell_type": "code",
   "execution_count": 28,
   "metadata": {},
   "outputs": [],
   "source": [
    "import matplotlib.pyplot as plt\n",
    "import numpy as np\n",
    "import pandas as pd"
   ]
  },
  {
   "attachments": {},
   "cell_type": "markdown",
   "metadata": {},
   "source": [
    "#### Optimal costs and routes"
   ]
  },
  {
   "cell_type": "code",
   "execution_count": 29,
   "metadata": {},
   "outputs": [],
   "source": [
    "optimas = {\n",
    "    'ch130': 6110,\n",
    "    'ch150': 6528,\n",
    "    'eil101': 629,\n",
    "    'kroA100': 21282,\n",
    "    'kroC100': 20749,\n",
    "    'kroD100': 21294,\n",
    "    'lin105': 14379,\n",
    "    'pr76': 108159,\n",
    "}\n",
    "\n",
    "optimal_solutions = {\n",
    "    'ch130': [1, 41, 39, 117, 112, 115, 28, 62, 105, 128, 16, 45, 5, 11, 76, 109, 61, 129, 124, 64, 69, 86, 88, 26, 7, 97, 70, 107, 127, 104, 43, 34, 17, 31, \n",
    "              27, 19, 100, 15, 29, 24, 116, 95, 79, 87, 12, 81, 103, 77, 94, 89, 110, 98, 68, 63, 48, 25, 113, 32, 36, 84, 119, 111, 123, 101, 82, 57, 9, 56, \n",
    "              65, 52, 75, 74, 99, 73, 92, 38, 106, 53, 120, 58, 49, 72, 91, 6, 102, 10, 14, 67, 13, 96, 122, 55, 60, 51, 42, 44, 93, 37, 22, 47, 40, 23, 33, 21, \n",
    "              126, 121, 78, 66, 85, 125, 90, 59, 30, 83, 3, 114, 108, 8, 18, 46, 80, 118, 20, 4, 35, 54, 2, 50, 130, 71],\n",
    "    'ch150': [1, 98, 103, 82, 95, 107, 5, 100, 143, 97, 146, 26, 75, 18, 142, 85, 65, 132, 137, 50, 55, 58, 141, 83, 56, 90, 46, 92, 54, 138, 134, 131, 32, 23, \n",
    "              38, 67, 43, 109, 51, 20, 25, 110, 81, 29, 86, 135, 70, 108, 102, 114, 99, 19, 2, 37, 6, 28, 9, 42, 120, 47, 139, 40, 53, 118, 24, 12, 116, 101, 41, \n",
    "              57, 39, 127, 69, 36, 61, 11, 148, 130, 17, 66, 60, 140, 117, 129, 27, 31, 123, 74, 13, 106, 91, 119, 68, 128, 45, 71, 44, 64, 112, 136, 145, 144, 49, \n",
    "              147, 72, 80, 14, 122, 77, 133, 15, 78, 21, 150, 115, 4, 104, 22, 125, 149, 62, 3, 113, 10, 94, 88, 121, 79, 59, 16, 111, 105, 33, 126, 52, 93, 124, 35, 96, 89, 8, 7, 84, 30, 63, 48, 73, 76, 34, 87],\n",
    "    'eil101': [1, 69, 27, 101, 53, 28, 26, 12, 80, 68, 29, 24, 54, 55, 25, 4, 39, 67, 23, 56, 75, 41, 22, 74, 72, 73, 21, 40, 58, 13, 94, 95, 97, 87, 2, 57, 15, \n",
    "               43, 42, 14, 44, 38, 86, 16, 61, 85, 91, 100, 98, 37, 92, 59, 93, 99, 96, 6, 89, 52, 18, 83, 60, 5, 84, 17, 45, 8, 46, 47, 36, 49, 64, 63, 90, 32, \n",
    "               10, 62, 11, 19, 48, 82, 7, 88, 31, 70, 30, 20, 66, 71, 65, 35, 34, 78, 81, 9, 51, 33, 79, 3, 77, 76, 50],\n",
    "    'kroA100': [1, 47, 93, 28, 67, 58, 61, 51, 87, 25, 81, 69, 64, 40, 54, 2, 44, 50, 73, 68, 85, 82, 95, 13, 76, 33, 37, 5, 52, 78, 96, 39, 30, 48, 100, 41, \n",
    "                71, 14, 3, 43, 46, 29, 34, 83, 55, 7, 9, 57, 20, 12, 27, 86, 35, 62, 60, 77, 23, 98, 91, 45, 32, 11, 15, 17, 59, 74, 21, 72, 10, 84, 36, 99, \n",
    "                38, 24, 18, 79, 53, 88, 16, 94, 22, 70, 66, 26, 65, 4, 97, 56, 80, 31, 89, 42, 8, 92, 75, 19, 90, 49, 6, 63],\n",
    "    'kroC100': [1, 85, 27, 15, 13, 79, 64, 20, 42, 55, 67, 47, 31, 65, 80, 77, 30, 68, 35, 2, 54, 6, 75, 22, 8, 17, 25, 90, 34, 58, 98, 88, 28, 39, 38, 71, 56, \n",
    "                43, 5, 86, 72, 83, 62, 50, 95, 94, 91, 76, 70, 23, 21, 89, 41, 59, 73, 3, 69, 60, 4, 93, 99, 19, 92, 10, 14, 36, 57, 74, 100, 33, 45, 81, 97, 96, \n",
    "                87, 52, 11, 84, 48, 66, 44, 63, 51, 16, 37, 9, 78, 82, 7, 26, 61, 32, 24, 46, 29, 18, 49, 12, 40, 53],\n",
    "    'kroD100': [1, 50, 34, 81, 38, 66, 8, 52, 46, 23, 42, 89, 11, 90, 17, 94, 32, 97, 98, 49, 70, 22, 58, 29, 36, 67, 75, 7, 74, 61, 76, 80, 72, 57, 31, 78, 99, \n",
    "                45, 33, 68, 14, 65, 86, 96, 16, 63, 54, 91, 77, 43, 64, 85, 59, 3, 83, 40, 6, 18, 82, 25, 20, 9, 10, 21, 47, 12, 28, 56, 95, 26, 87, 55, 92, 48, \n",
    "                2, 100, 30, 35, 51, 19, 37, 62, 5, 53, 60, 44, 93, 4, 71, 39, 73, 15, 69, 84, 41, 24, 27, 88, 79, 13],\n",
    "    'lin105': [1, 2, 6, 7, 10, 11, 15, 103, 21, 22, 29, 30, 31, 32, 33, 28, 23, 20, 12, 19, 24, 27, 16, 17, 18, 25, 26, 36, 37, 42, 41, 43, 46, 52, 53, 58, 57, \n",
    "               54, 51, 47, 44, 104, 40, 49, 45, 48, 50, 55, 56, 59, 105, 62, 63, 70, 69, 74, 75, 81, 73, 76, 80, 86, 79, 77, 72, 64, 67, 68, 71, 78, 82, 83, 84, \n",
    "               85, 91, 92, 96, 97, 101, 102, 93, 89, 90, 98, 99, 100, 95, 94, 88, 87, 66, 65, 61, 60, 39, 38, 35, 34, 14, 13, 4, 5, 9, 8, 3],\n",
    "    'pr76': [1, 76, 75, 2, 3, 4, 5, 6, 7, 8, 9, 10, 11, 12, 13, 14, 74, 15, 16, 17, 18, 37, 36, 38, 39, 40, 34, 35, 33, 32, 29, 30, 31, 19, 20, 26, 27, 28, \n",
    "             43, 42, 54, 53, 52, 55, 56, 57, 58, 59, 60, 41, 61, 62, 63, 64, 73, 72, 71, 65, 66, 51, 49, 50, 67, 70, 68, 69, 47, 48, 44, 45, 46, 24, 25, 21, 22, 23],\n",
    "}"
   ]
  },
  {
   "cell_type": "code",
   "execution_count": 30,
   "metadata": {},
   "outputs": [],
   "source": [
    "# function to read the data from the file\n",
    "def read_data(filename):\n",
    "    # if odd line number, then it is a solution\n",
    "    # if even line number, then it is a cost\n",
    "    # skip the last line\n",
    "    # on new line, append to the list\n",
    "    \n",
    "    with open(filename, 'r') as f:\n",
    "        lines = f.readlines()\n",
    "        lines = lines[:-1]\n",
    "        solutions = []\n",
    "        costs = []\n",
    "        for i in range(len(lines)):\n",
    "            if i % 2 == 0:\n",
    "                #solutions.append(lines[i][:-1])\n",
    "                solutions.append(list(map(int,lines[i][:-2].split(' '))))\n",
    "            else:\n",
    "                costs.append(float(lines[i][:-1]))\n",
    "    return solutions, costs\n"
   ]
  },
  {
   "attachments": {},
   "cell_type": "markdown",
   "metadata": {},
   "source": [
    "#### Read solutions and costs"
   ]
  },
  {
   "cell_type": "code",
   "execution_count": 45,
   "metadata": {},
   "outputs": [],
   "source": [
    "# ch130\n",
    "random_ch130, random_ch130_costs = read_data('solution_random_ch130.txt')\n",
    "random_walk_ch130, random_walk_ch130_costs = read_data('solution_random_walk_ch130.txt')\n",
    "nn_ch130, nn_ch130_costs = read_data('solution_nn_ch130.txt')\n",
    "greedy_ch130, greedy_ch130_costs = read_data('solution_greedy_ch130.txt')\n",
    "steepest_ch130, steepest_ch130_costs = read_data('solution_steepest_ch130.txt')"
   ]
  },
  {
   "cell_type": "code",
   "execution_count": 47,
   "metadata": {},
   "outputs": [],
   "source": [
    "# ch150\n",
    "random_ch150, random_ch150_costs = read_data('solution_random_ch150.txt')\n",
    "random_walk_ch150, random_walk_ch150_costs = read_data('solution_random_walk_ch150.txt')\n",
    "nn_ch150, nn_ch150_costs = read_data('solution_nn_ch150.txt')\n",
    "greedy_ch150, greedy_ch150_costs = read_data('solution_greedy_ch150.txt')\n",
    "steepest_ch150, steepest_ch150_costs = read_data('solution_steepest_ch150.txt')"
   ]
  },
  {
   "cell_type": "code",
   "execution_count": 20,
   "metadata": {},
   "outputs": [],
   "source": [
    "# eil101\n",
    "random_eil101, random_eil101_costs = read_data('solution_random_eil101.txt')\n",
    "random_walk_eil101, random_walk_eil101_costs = read_data('solution_random_walk_eil101.txt')\n",
    "nn_eil101, nn_eil101_costs = read_data('solution_nn_eil101.txt')\n",
    "greedy_eil101, greedy_eil101_costs = read_data('solution_greedy_eil101.txt')\n",
    "steepest_eil101, steepest_eil101_costs = read_data('solution_steepest_eil101.txt')"
   ]
  },
  {
   "cell_type": "code",
   "execution_count": 27,
   "metadata": {},
   "outputs": [],
   "source": [
    "# kroA100\n",
    "random_kroA100, random_kroA100_costs = read_data('solution_random_kroA100.txt')\n",
    "random_walk_kroA100, random_walk_kroA100_costs = read_data('solution_random_walk_kroA100.txt')\n",
    "nn_kroA100, nn_kroA100_costs = read_data('solution_nn_kroA100.txt')\n",
    "greedy_kroA100, greedy_kroA100_costs = read_data('solution_greedy_kroA100.txt')\n",
    "steepest_kroA100, steepest_kroA100_costs = read_data('solution_steepest_kroA100.txt')"
   ]
  },
  {
   "cell_type": "code",
   "execution_count": 25,
   "metadata": {},
   "outputs": [],
   "source": [
    "# kroC100\n",
    "random_kroC100, random_kroC100_costs = read_data('solution_random_kroC100.txt')\n",
    "random_walk_kroC100, random_walk_kroC100_costs = read_data('solution_random_walk_kroC100.txt')\n",
    "nn_kroC100, nn_kroC100_costs = read_data('solution_nn_kroC100.txt')\n",
    "greedy_kroC100, greedy_kroC100_costs = read_data('solution_greedy_kroC100.txt')\n",
    "steepest_kroC100, steepest_kroC100_costs = read_data('solution_steepest_kroC100.txt')"
   ]
  },
  {
   "cell_type": "code",
   "execution_count": 31,
   "metadata": {},
   "outputs": [],
   "source": [
    "# kroD100\n",
    "random_kroD100, random_kroD100_costs = read_data('solution_random_kroD100.txt')\n",
    "random_walk_kroD100, random_walk_kroD100_costs = read_data('solution_random_walk_kroD100.txt')\n",
    "nn_kroD100, nn_kroD100_costs = read_data('solution_nn_kroD100.txt')\n",
    "greedy_kroD100, greedy_kroD100_costs = read_data('solution_greedy_kroD100.txt')\n",
    "steepest_kroD100, steepest_kroD100_costs = read_data('solution_steepest_kroD100.txt')"
   ]
  },
  {
   "cell_type": "code",
   "execution_count": 33,
   "metadata": {},
   "outputs": [],
   "source": [
    "# lin105\n",
    "random_lin105, random_lin105_costs = read_data('solution_random_lin105.txt')\n",
    "random_walk_lin105, random_walk_lin105_costs = read_data('solution_random_walk_lin105.txt')\n",
    "nn_lin105, nn_lin105_costs = read_data('solution_nn_lin105.txt')\n",
    "greedy_lin105, greedy_lin105_costs = read_data('solution_greedy_lin105.txt')\n",
    "steepest_lin105, steepest_lin105_costs = read_data('solution_steepest_lin105.txt')"
   ]
  },
  {
   "cell_type": "code",
   "execution_count": 32,
   "metadata": {},
   "outputs": [],
   "source": [
    "# pr76\n",
    "random_pr76, random_pr76_costs = read_data('solution_random_pr76.txt')\n",
    "random_walk_pr76, random_walk_pr76_costs = read_data('solution_random_walk_pr76.txt')\n",
    "nn_pr76, nn_pr76_costs = read_data('solution_nn_pr76.txt')\n",
    "greedy_pr76, greedy_pr76_costs = read_data('solution_greedy_pr76.txt')\n",
    "steepest_pr76, steepest_pr76_costs = read_data('solution_steepest_pr76.txt')"
   ]
  },
  {
   "attachments": {},
   "cell_type": "markdown",
   "metadata": {},
   "source": [
    "#### Quality"
   ]
  },
  {
   "cell_type": "code",
   "execution_count": 33,
   "metadata": {},
   "outputs": [],
   "source": [
    "def get_quality(costs, optimas, instance):\n",
    "    # get the quality of the solution (cost-optimal)/optimal\n",
    "    # quality = 1 - cost\n",
    "    quality = []\n",
    "    for cost in costs:\n",
    "        quality.append((cost-optimas[instance])/optimas[instance]) \n",
    "    return quality"
   ]
  },
  {
   "attachments": {},
   "cell_type": "markdown",
   "metadata": {},
   "source": [
    "Calculate qualities as (score - optimal_cost)/optimal_cost"
   ]
  },
  {
   "cell_type": "code",
   "execution_count": null,
   "metadata": {},
   "outputs": [],
   "source": [
    "# ch130\n",
    "random_ch130_quality = get_quality(random_ch130_costs, optimas, 'ch130')\n",
    "random_walk_ch130_quality = get_quality(random_walk_ch130_costs, optimas, 'ch130')\n",
    "nn_ch130_quality = get_quality(nn_ch130_costs, optimas, 'ch130')\n",
    "greedy_ch130_quality = get_quality(greedy_ch130_costs, optimas, 'ch130')\n",
    "steepest_ch130_quality = get_quality(steepest_ch130_costs, optimas, 'ch130')"
   ]
  },
  {
   "cell_type": "code",
   "execution_count": null,
   "metadata": {},
   "outputs": [],
   "source": [
    "# ch150\n",
    "random_ch150_quality = get_quality(random_ch150_costs, optimas, 'ch150')\n",
    "random_walk_ch150_quality = get_quality(random_walk_ch150_costs, optimas, 'ch150')\n",
    "nn_ch150_quality = get_quality(nn_ch150_costs, optimas, 'ch150')\n",
    "greedy_ch150_quality = get_quality(greedy_ch150_costs, optimas, 'ch150')\n",
    "steepest_ch150_quality = get_quality(steepest_ch150_costs, optimas, 'ch150')"
   ]
  },
  {
   "cell_type": "code",
   "execution_count": null,
   "metadata": {},
   "outputs": [],
   "source": [
    "# eil101\n",
    "random_eil101_quality = get_quality(random_eil101_costs, optimas, 'eil101')\n",
    "random_walk_eil101_quality = get_quality(random_walk_eil101_costs, optimas, 'eil101')\n",
    "nn_eil101_quality = get_quality(nn_eil101_costs, optimas, 'eil101')\n",
    "greedy_eil101_quality = get_quality(greedy_eil101_costs, optimas, 'eil101')\n",
    "steepest_eil101_quality = get_quality(steepest_eil101_costs, optimas, 'eil101')"
   ]
  },
  {
   "cell_type": "code",
   "execution_count": null,
   "metadata": {},
   "outputs": [],
   "source": [
    "# kroA100\n",
    "random_kroA100_quality = get_quality(random_kroA100_costs, optimas, 'kroA100')\n",
    "random_walk_kroA100_quality = get_quality(random_walk_kroA100_costs, optimas, 'kroA100')\n",
    "nn_kroA100_quality = get_quality(nn_kroA100_costs, optimas, 'kroA100')\n",
    "greedy_kroA100_quality = get_quality(greedy_kroA100_costs, optimas, 'kroA100')\n",
    "steepest_kroA100_quality = get_quality(steepest_kroA100_costs, optimas, 'kroA100')"
   ]
  },
  {
   "cell_type": "code",
   "execution_count": null,
   "metadata": {},
   "outputs": [],
   "source": [
    "# kroC100\n",
    "random_kroC100_quality = get_quality(random_kroC100_costs, optimas, 'kroC100')\n",
    "random_walk_kroC100_quality = get_quality(random_walk_kroC100_costs, optimas, 'kroC100')\n",
    "nn_kroC100_quality = get_quality(nn_kroC100_costs, optimas, 'kroC100')\n",
    "greedy_kroC100_quality = get_quality(greedy_kroC100_costs, optimas, 'kroC100')\n",
    "steepest_kroC100_quality = get_quality(steepest_kroC100_costs, optimas, 'kroC100')"
   ]
  },
  {
   "cell_type": "code",
   "execution_count": null,
   "metadata": {},
   "outputs": [],
   "source": [
    "# kroD100\n",
    "random_kroD100_quality = get_quality(random_kroD100_costs, optimas, 'kroD100')\n",
    "random_walk_kroD100_quality = get_quality(random_walk_kroD100_costs, optimas, 'kroD100')\n",
    "nn_kroD100_quality = get_quality(nn_kroD100_costs, optimas, 'kroD100')\n",
    "greedy_kroD100_quality = get_quality(greedy_kroD100_costs, optimas, 'kroD100')\n",
    "steepest_kroD100_quality = get_quality(steepest_kroD100_costs, optimas, 'kroD100')"
   ]
  },
  {
   "cell_type": "code",
   "execution_count": null,
   "metadata": {},
   "outputs": [],
   "source": [
    "# lin105\n",
    "random_lin105_quality = get_quality(random_lin105_costs, optimas, 'lin105')\n",
    "random_walk_lin105_quality = get_quality(random_walk_lin105_costs, optimas, 'lin105')\n",
    "nn_lin105_quality = get_quality(nn_lin105_costs, optimas, 'lin105')\n",
    "greedy_lin105_quality = get_quality(greedy_lin105_costs, optimas, 'lin105')\n",
    "steepest_lin105_quality = get_quality(steepest_lin105_costs, optimas, 'lin105')"
   ]
  },
  {
   "cell_type": "code",
   "execution_count": 34,
   "metadata": {},
   "outputs": [],
   "source": [
    "# pr76\n",
    "random_pr76_quality = get_quality(random_pr76_costs, optimas, 'pr76')\n",
    "random_walk_pr76_quality = get_quality(random_walk_pr76_costs, optimas, 'pr76')\n",
    "nn_pr76_quality = get_quality(nn_pr76_costs, optimas, 'pr76')\n",
    "greedy_pr76_quality = get_quality(greedy_pr76_costs, optimas, 'pr76')\n",
    "steepest_pr76_quality = get_quality(steepest_pr76_costs, optimas, 'pr76')"
   ]
  },
  {
   "cell_type": "code",
   "execution_count": 23,
   "metadata": {},
   "outputs": [],
   "source": [
    "def create_boxplot_instance(data, instance, xlabel='Algorithms', ylabel='Quality', title=\"Quality of solutions for\"):\n",
    "    fig, ax = plt.subplots(figsize=(10, 8))\n",
    "    ax.set_title(title+\" \"+instance)\n",
    "    ax.set_xlabel(xlabel)\n",
    "    ax.set_ylabel(ylabel)\n",
    "    ax.boxplot(data, labels=['random', 'rw', 'nn', 'greedy', 'steepest'])\n",
    "    plt.show()"
   ]
  },
  {
   "cell_type": "code",
   "execution_count": 42,
   "metadata": {},
   "outputs": [],
   "source": [
    "def create_boxplot_algorithm(data, algorithm, xlabel='Instances', ylabel='Quality', title=\"Quality of solutions for\", labels=['pr76']):#labels=['ch130', 'ch150', 'eil101', 'kroA100', 'kroC100', 'kroD100', 'lin105', 'pr76']):\n",
    "    plt.rcParams[\"figure.figsize\"] = [10, 8]\n",
    "    plt.rcParams[\"figure.autolayout\"] = True\n",
    "    plt.title(title+\" \"+algorithm)\n",
    "    plt.xlabel(xlabel)\n",
    "    plt.ylabel(ylabel)\n",
    "    # calculate min, max, avg, std for each instance\n",
    "    stats = {}\n",
    "    for name, values in zip(labels, data):\n",
    "        stats[name] = {\n",
    "            'min': np.min(values),\n",
    "            'max': np.max(values),\n",
    "            'avg': np.mean(values),\n",
    "            'std': np.std(values),\n",
    "        }\n",
    "\n",
    "    # plot results\n",
    "    names = labels\n",
    "    min_values = [stats[name]['min'] for name in names]\n",
    "    max_values = [stats[name]['max'] for name in names]\n",
    "    avg_values = [stats[name]['avg'] for name in names]\n",
    "    std_values = [stats[name]['std'] for name in names]\n",
    "\n",
    "    fig, ax = plt.subplots()\n",
    "    # plot min and max values\n",
    "    ax.plot(names, min_values, '.', label='min')\n",
    "    ax.plot(names, max_values, '.', label='max')\n",
    "    # plot avg and std values in a form of error bars\n",
    "    ax.errorbar(names, avg_values, yerr=std_values, capsize=3, fmt='o', label='avg +- std')\n",
    "    ax.legend()\n",
    "    plt.xticks(rotation=90)\n",
    "    plt.show()"
   ]
  },
  {
   "attachments": {},
   "cell_type": "markdown",
   "metadata": {},
   "source": [
    "Get qualities from every instance for each algorithm"
   ]
  },
  {
   "cell_type": "code",
   "execution_count": 43,
   "metadata": {},
   "outputs": [],
   "source": [
    "random_qualities = [random_pr76_quality]#[random_ch130_quality, random_ch150_quality, random_eil101_quality, random_kroA100_quality, random_kroC100_quality, random_kroD100_quality, random_lin105_quality, random_pr76_quality]\n",
    "#random_walk_qualities = [random_walk_ch130_quality, random_walk_ch150_quality, random_walk_eil101_quality, random_walk_kroA100_quality, random_walk_kroC100_quality, random_walk_kroD100_quality, random_walk_lin105_quality, random_walk_pr76_quality]\n",
    "#nn_qualities = [nn_ch130_quality, nn_ch150_quality, nn_eil101_quality, nn_kroA100_quality, nn_kroC100_quality, nn_kroD100_quality, nn_lin105_quality, nn_pr76_quality]\n",
    "#greedy_qualities = [greedy_ch130_quality, greedy_ch150_quality, greedy_eil101_quality, greedy_kroA100_quality, greedy_kroC100_quality, greedy_kroD100_quality, greedy_lin105_quality, greedy_pr76_quality]\n",
    "#steepest_qualities = [steepest_ch130_quality, steepest_ch150_quality, steepest_eil101_quality, steepest_kroA100_quality, steepest_kroC100_quality, steepest_kroD100_quality, steepest_lin105_quality, steepest_pr76_quality]"
   ]
  },
  {
   "cell_type": "code",
   "execution_count": 45,
   "metadata": {},
   "outputs": [
    {
     "data": {
      "image/png": "[encoded data removed]",
      "text/plain": [
       "<Figure size 720x576 with 1 Axes>"
      ]
     },
     "metadata": {
      "needs_background": "light"
     },
     "output_type": "display_data"
    },
    {
     "data": {
      "image/png": "[encoded data removed]",
      "text/plain": [
       "<Figure size 720x576 with 1 Axes>"
      ]
     },
     "metadata": {
      "needs_background": "light"
     },
     "output_type": "display_data"
    }
   ],
   "source": [
    "create_boxplot_algorithm(random_qualities, 'random')"
   ]
  },
  {
   "attachments": {},
   "cell_type": "markdown",
   "metadata": {},
   "source": [
    "#### Running time"
   ]
  },
  {
   "cell_type": "code",
   "execution_count": null,
   "metadata": {},
   "outputs": [],
   "source": [
    "def create_boxplot_running_time(data, algorithm, xlabel='Instances', ylabel='Running time [ns]', title=\"Running time for\", labels=['ch130', 'ch150', 'eil101', 'kroA100', 'kroC100', 'kroD100', 'lin105', 'pr76']):\n",
    "    plt.rcParams[\"figure.figsize\"] = [10, 8]\n",
    "    plt.rcParams[\"figure.autolayout\"] = True\n",
    "    plt.title(title+\" \"+algorithm)\n",
    "    plt.xlabel(xlabel)\n",
    "    plt.ylabel(ylabel)\n",
    "    # calculate min, max, avg, std for each instance\n",
    "    stats = {}\n",
    "    for name, values in zip(labels, data):\n",
    "        stats[name] = {\n",
    "            'min': np.min(values),\n",
    "            'max': np.max(values),\n",
    "            'avg': np.mean(values),\n",
    "            'std': np.std(values),\n",
    "        }\n",
    "\n",
    "    # plot results\n",
    "    names = list(data.keys())\n",
    "    min_values = [stats[name]['min'] for name in names]\n",
    "    max_values = [stats[name]['max'] for name in names]\n",
    "    avg_values = [stats[name]['avg'] for name in names]\n",
    "    std_values = [stats[name]['std'] for name in names]\n",
    "\n",
    "    fig, ax = plt.subplots()\n",
    "    # plot min and max values\n",
    "    ax.plot(names, min_values, '.', label='min')\n",
    "    ax.plot(names, max_values, '.', label='max')\n",
    "    # plot avg and std values in a form of error bars\n",
    "    ax.errorbar(names, avg_values, yerr=std_values, capsize=3, fmt='o', label='avg +- std')\n",
    "    ax.legend()\n",
    "    plt.xticks(rotation=90)\n",
    "    plt.show()"
   ]
  },
  {
   "attachments": {},
   "cell_type": "markdown",
   "metadata": {},
   "source": [
    "#### Efficiency"
   ]
  },
  {
   "attachments": {},
   "cell_type": "markdown",
   "metadata": {},
   "source": [
    "#### Average number of steps (greedy, steepest)"
   ]
  },
  {
   "cell_type": "code",
   "execution_count": 48,
   "metadata": {},
   "outputs": [],
   "source": [
    "def create_scatter_plot_steps_number(data, algorithm, xlabel='Instances', ylabel='Steps', title=\"Number of steps for\", labels=['ch130', 'ch150', 'eil101', 'kroA100', 'kroC100', 'kroD100', 'lin105', 'pr76']):\n",
    "    plt.rcParams[\"figure.figsize\"] = [10, 8]\n",
    "    plt.rcParams[\"figure.autolayout\"] = True\n",
    "    plt.title(title+\" \"+algorithm)\n",
    "    plt.xlabel(xlabel)\n",
    "    plt.ylabel(ylabel)\n",
    "    plt.scatter(labels, data[0], s=10, c='b', marker=\"o\", label='greedy')\n",
    "    plt.scatter(labels, data[1], s=10, c='r', marker=\"o\", label='steepest')\n",
    "    plt.xticks(rotation=90)\n",
    "    plt.legend()\n",
    "    plt.show()"
   ]
  },
  {
   "attachments": {},
   "cell_type": "markdown",
   "metadata": {},
   "source": [
    "#### Average number of evaluated solutions (random, random walk, greedy, steepest)"
   ]
  },
  {
   "cell_type": "code",
   "execution_count": null,
   "metadata": {},
   "outputs": [],
   "source": [
    "def create_scatter_plot_evaluated_solutions_number(data, algorithm, xlabel='Instances', ylabel='Evaluated solutions', title=\"Number of evaluated solutions for\", labels=['ch130', 'ch150', 'eil101', 'kroA100', 'kroC100', 'kroD100', 'lin105', 'pr76']):\n",
    "    plt.rcParams[\"figure.figsize\"] = [10, 8]\n",
    "    plt.rcParams[\"figure.autolayout\"] = True\n",
    "    plt.title(title+\" \"+algorithm)\n",
    "    plt.xlabel(xlabel)\n",
    "    plt.ylabel(ylabel)\n",
    "    plt.scatter(labels, data[0], s=10, c='w', marker=\"o\", label='random')\n",
    "    plt.scatter(labels, data[1], s=10, c='w', marker=\"o\", label='random_walk')\n",
    "    plt.scatter(labels, data[2], s=10, c='b', marker=\"o\", label='greedy')\n",
    "    plt.scatter(labels, data[3], s=10, c='r', marker=\"o\", label='steepest')\n",
    "    plt.xticks(rotation=90)\n",
    "    plt.legend()\n",
    "    plt.show()"
   ]
  },
  {
   "attachments": {},
   "cell_type": "markdown",
   "metadata": {},
   "source": [
    "---"
   ]
  },
  {
   "attachments": {},
   "cell_type": "markdown",
   "metadata": {},
   "source": [
    "#### Initial vs final quality (greedy, steepest)"
   ]
  },
  {
   "cell_type": "code",
   "execution_count": 24,
   "metadata": {},
   "outputs": [],
   "source": [
    "from numpy.polynomial.polynomial import polyfit\n",
    "\n",
    "def create_scatter_plot_initial_final(data, algorithm, xlabel='Initial costs', ylabel='Final costs', title=\"Initial vs final costs for\"):\n",
    "    plt.rcParams[\"figure.figsize\"] = [10, 8]\n",
    "    plt.rcParams[\"figure.autolayout\"] = True\n",
    "    plt.title(title+\" \"+algorithm)\n",
    "    plt.xlabel(xlabel)\n",
    "    plt.ylabel(ylabel)\n",
    "    x = np.array(data[0])\n",
    "    y = np.array(data[1])\n",
    "    b, m = polyfit(x, y, 1)\n",
    "    plt.plot(x, y, '.')\n",
    "    plt.plot(x, b + m * x, '-', alpha=0.5)\n",
    "    plt.show()"
   ]
  },
  {
   "attachments": {},
   "cell_type": "markdown",
   "metadata": {},
   "source": [
    "#### Number of restarts vs average and best solution"
   ]
  },
  {
   "cell_type": "code",
   "execution_count": 26,
   "metadata": {},
   "outputs": [],
   "source": [
    "def create_scatter_plot_restart_vs_score(data, algorithm, xlabel='Number of restarts', ylabel='Best cost found', title=\"Number of restarts vs best cost found for\"):\n",
    "    plt.rcParams[\"figure.figsize\"] = [10, 8]\n",
    "    plt.rcParams[\"figure.autolayout\"] = True\n",
    "    plt.title(title+\" \"+algorithm)\n",
    "    plt.xlabel(xlabel)\n",
    "    plt.ylabel(ylabel)\n",
    "    x = np.array(data[0])\n",
    "    y = np.array(data[1])\n",
    "    window = 5\n",
    "    average_y = []\n",
    "    for ind in range(len(y) - window + 1):\n",
    "        average_y.append(np.mean(y[ind:ind+window]))\n",
    "    for ind in range(window - 1):\n",
    "        average_y.insert(0, np.nan)\n",
    "    # b, m = polyfit(x, y, 1)\n",
    "    plt.plot(x, y, 'k.-', label='Original data')\n",
    "    plt.plot(x, average_y, 'r.-', label='Running average')\n",
    "    # plt.plot(x, y, '.')\n",
    "    # plt.plot(x, b + m * x, '-', alpha=0.5)\n",
    "    plt.show()"
   ]
  }
 ],
 "metadata": {
  "kernelspec": {
   "display_name": "base",
   "language": "python",
   "name": "python3"
  },
  "language_info": {
   "codemirror_mode": {
    "name": "ipython",
    "version": 3
   },
   "file_extension": ".py",
   "mimetype": "text/x-python",
   "name": "python",
   "nbconvert_exporter": "python",
   "pygments_lexer": "ipython3",
   "version": "3.9.12"
  },
  "orig_nbformat": 4
 },
 "nbformat": 4,
 "nbformat_minor": 2
}
